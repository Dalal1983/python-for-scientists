{
 "cells": [
  {
   "cell_type": "markdown",
   "metadata": {},
   "source": [
    "# Practice Problem - Cryptography"
   ]
  },
  {
   "cell_type": "markdown",
   "metadata": {},
   "source": [
    "Cryptography is the study of how to make messages secret or how to read secret messages. A very simple encryption technique is called the *Caesar cipher* -- more information on it can be found [here](http://en.wikipedia.org/wiki/Caesar_cipher). The basic idea is that each letter is replaced by a letter that is a certain number of letters away, so for example if the shift was 2, then A would become C, B would become D, etc. (and Z will become B).\n",
    "\n",
    "Write a function that given a string and a shift, will produce the encrypted string for that shift. Note that the same function can be used to decrypt a message, by passing it a negative shift. \n",
    "\n",
    "The rules are: you should only accept and return lowercase letters, and spaces should not be changed.\n",
    "\n",
    "Then, decrypt the following message, which was encrypted with a shift of 13:\n",
    "    \n",
    "    pbatenghyngvbaf lbh unir fhpprrqrq va qrpelcgvat gur fgevat    \n",
    "    \n",
    "Now if you are up for a challenge, try and decrypt this **and** find the shift:\n",
    "    \n",
    "    gwc uivioml bw nqvl bpm zqopb apqnb\n",
    "    \n",
    "Hint: there are several ways you can convert between letters and numbers. One is to use the built-in functions ``chr`` and ``ord`` (and remember you can find out more about a function by using ``?`` in IPython). Another is to set up the alphabet in a string and use item access (``[4]``) to convert from numbers to letters, and the ``index`` method to convert from letters to numbers."
   ]
  },
  {
   "cell_type": "markdown",
   "metadata": {},
   "source": [
    "## Solution"
   ]
  },
  {
   "cell_type": "code",
   "execution_count": 30,
   "metadata": {
    "collapsed": false
   },
   "outputs": [
    {
     "name": "stdout",
     "output_type": "stream",
     "text": [
      "congratulations you have succeeded in decrypting the string\n"
     ]
    }
   ],
   "source": [
    "encrypted = \"pbatenghyngvbaf lbh unir fhpprrqrq va qrpelcgvat gur fgevat\"\n",
    "decrypted = \"\"\n",
    "abc = \"abcdefghijklmnopqrstuvwxyz\"\n",
    "letters = list(abc)\n",
    "shift = 13\n",
    "\n",
    "for i in range(len(encrypted)):\n",
    "    if(encrypted[i] == ' '):\n",
    "        decrypted += \" \"\n",
    "        continue\n",
    "    else:\n",
    "        # find the index of the letter in the alphabet:\n",
    "        index = 0\n",
    "        for j in range(len(letters)):\n",
    "            if letters[j] == encrypted[i]:\n",
    "                index = j\n",
    "                break\n",
    "            else: \n",
    "                continue\n",
    "                \n",
    "        # thift the found index by shift=13:\n",
    "        index = (index - shift)%(len(abc))\n",
    "        \n",
    "        #now decrypt and add numbers to result string\n",
    "        decrypted += letters[index]\n",
    "\n",
    "#show the result which should be the decrypted string:        \n",
    "print(decrypted)"
   ]
  },
  {
   "cell_type": "code",
   "execution_count": 33,
   "metadata": {
    "collapsed": false
   },
   "outputs": [
    {
     "name": "stdout",
     "output_type": "stream",
     "text": [
      "0 gwc uivioml bw nqvl bpm zqopb apqnb\n",
      "\n",
      "1 fvb thuhnlk av mpuk aol ypnoa zopma\n",
      "\n",
      "2 eua sgtgmkj zu lotj znk xomnz ynolz\n",
      "\n",
      "3 dtz rfsflji yt knsi ymj wnlmy xmnky\n",
      "\n",
      "4 csy qerekih xs jmrh xli vmklx wlmjx\n",
      "\n",
      "5 brx pdqdjhg wr ilqg wkh uljkw vkliw\n",
      "\n",
      "6 aqw ocpcigf vq hkpf vjg tkijv ujkhv\n",
      "\n",
      "7 zpv nbobhfe up gjoe uif sjhiu tijgu\n",
      "\n",
      "8 you managed to find the right shift\n",
      "\n",
      "9 xnt lzmzfdc sn ehmc sgd qhfgs rghes\n",
      "\n",
      "10 wms kylyecb rm dglb rfc pgefr qfgdr\n",
      "\n",
      "11 vlr jxkxdba ql cfka qeb ofdeq pefcq\n",
      "\n",
      "12 ukq iwjwcaz pk bejz pda necdp odebp\n",
      "\n",
      "13 tjp hvivbzy oj adiy ocz mdbco ncdao\n",
      "\n",
      "14 sio guhuayx ni zchx nby lcabn mbczn\n",
      "\n",
      "15 rhn ftgtzxw mh ybgw max kbzam labym\n",
      "\n",
      "16 qgm esfsywv lg xafv lzw jayzl kzaxl\n",
      "\n",
      "17 pfl drerxvu kf wzeu kyv izxyk jyzwk\n",
      "\n",
      "18 oek cqdqwut je vydt jxu hywxj ixyvj\n",
      "\n",
      "19 ndj bpcpvts id uxcs iwt gxvwi hwxui\n",
      "\n",
      "20 mci aobousr hc twbr hvs fwuvh gvwth\n",
      "\n",
      "21 lbh znantrq gb svaq gur evtug fuvsg\n",
      "\n",
      "22 kag ymzmsqp fa ruzp ftq dustf eturf\n",
      "\n",
      "23 jzf xlylrpo ez qtyo esp ctrse dstqe\n",
      "\n",
      "24 iye wkxkqon dy psxn dro bsqrd crspd\n",
      "\n",
      "25 hxd vjwjpnm cx orwm cqn arpqc bqroc\n",
      "\n"
     ]
    }
   ],
   "source": [
    "#For part 2, the shift is unknown, so we iterate over every possible shift:\n",
    "encrypted = \"gwc uivioml bw nqvl bpm zqopb apqnb\"\n",
    "decrypted = \"\"\n",
    "abc = \"abcdefghijklmnopqrstuvwxyz\"\n",
    "letters = list(abc)\n",
    "\n",
    "for shift in range(len(abc)):\n",
    "    decrypted = \"\"\n",
    "    for i in range(len(encrypted)):\n",
    "        if(encrypted[i] == ' '):\n",
    "            decrypted += \" \"\n",
    "            continue\n",
    "        else:\n",
    "            # find the index of the letter in the alphabet:\n",
    "            index = 0\n",
    "            for j in range(len(letters)):\n",
    "                if letters[j] == encrypted[i]:\n",
    "                    index = j\n",
    "                    break\n",
    "                else: \n",
    "                    continue\n",
    "\n",
    "            # thift the found index by shift=13:\n",
    "            index = (index - shift)%(len(abc))\n",
    "\n",
    "            #now decrypt and add numbers to result string\n",
    "            decrypted += letters[index]\n",
    "    print(shift, decrypted)\n",
    "    "
   ]
  },
  {
   "cell_type": "code",
   "execution_count": 36,
   "metadata": {
    "collapsed": false
   },
   "outputs": [
    {
     "name": "stdout",
     "output_type": "stream",
     "text": [
      "Shift: 8  Message:  you managed to find the right shift\n"
     ]
    }
   ],
   "source": [
    "# obviously, 8 is the right shift\n",
    "\n",
    "# if we had known some word in the string, let's say \"shift\", it's much easier:\n",
    "\n",
    "#For part 2, the shift is unknown, so we iterate over every possible shift:\n",
    "encrypted = \"gwc uivioml bw nqvl bpm zqopb apqnb\"\n",
    "decrypted = \"\"\n",
    "abc = \"abcdefghijklmnopqrstuvwxyz\"\n",
    "letters = list(abc)\n",
    "\n",
    "for shift in range(len(abc)):\n",
    "    decrypted = \"\"\n",
    "    for i in range(len(encrypted)):\n",
    "        if(encrypted[i] == ' '):\n",
    "            decrypted += \" \"\n",
    "            continue\n",
    "        else:\n",
    "            # find the index of the letter in the alphabet:\n",
    "            index = 0\n",
    "            for j in range(len(letters)):\n",
    "                if letters[j] == encrypted[i]:\n",
    "                    index = j\n",
    "                    break\n",
    "                else: \n",
    "                    continue\n",
    "\n",
    "            # thift the found index by shift=13:\n",
    "            index = (index - shift)%(len(abc))\n",
    "\n",
    "            #now decrypt and add numbers to result string\n",
    "            decrypted += letters[index]\n",
    "    if ('shift' in decrypted): print(\"Shift:\", shift, \" Message: \", decrypted)"
   ]
  },
  {
   "cell_type": "code",
   "execution_count": null,
   "metadata": {
    "collapsed": true
   },
   "outputs": [],
   "source": []
  }
 ],
 "metadata": {
  "kernelspec": {
   "display_name": "Python 3",
   "language": "python",
   "name": "python3"
  },
  "language_info": {
   "codemirror_mode": {
    "name": "ipython",
    "version": 3
   },
   "file_extension": ".py",
   "mimetype": "text/x-python",
   "name": "python",
   "nbconvert_exporter": "python",
   "pygments_lexer": "ipython3",
   "version": "3.6.0"
  }
 },
 "nbformat": 4,
 "nbformat_minor": 0
}
