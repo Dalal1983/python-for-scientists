{
 "cells": [
  {
   "cell_type": "markdown",
   "metadata": {
    "deletable": true,
    "editable": true
   },
   "source": [
    "# Practice Problem - Monte-Carlo Error Propagation"
   ]
  },
  {
   "cell_type": "markdown",
   "metadata": {
    "deletable": true,
    "editable": true
   },
   "source": [
    "## Part 1"
   ]
  },
  {
   "cell_type": "markdown",
   "metadata": {
    "deletable": true,
    "editable": true
   },
   "source": [
    "You have likely encountered the concept of propagation of uncertainty before (see [the usual rules here](http://en.wikipedia.org/wiki/Propagation_of_uncertainty#Example_formulas)). The idea is that given measurements with uncertainties, we can find the uncertainty on the final result of an equation.\n",
    "\n",
    "For example, let us consider the following equation:\n",
    "\n",
    "$$F = \\frac{G~M_1~M_2}{r^2}$$\n",
    "\n",
    "which gives the gravitational force between two masses $M_1$ and $M_2$ separated by a distance $r$.\n",
    "\n",
    "Let us now imagine that we have two masses:\n",
    "\n",
    "$$M_1=40\\times10^4\\pm0.05\\times10^4\\rm{kg}$$\n",
    "\n",
    "and\n",
    "\n",
    "$$M_2=30\\times10^4\\pm0.1\\times10^4\\rm{kg}$$\n",
    "\n",
    "separated by a distance:\n",
    "\n",
    "$$r=3.2\\pm0.01~\\rm{m}$$\n",
    "\n",
    "where the uncertaintes are the standard deviations of Gaussian distributions which could be e.g. measurement errors.\n",
    "\n",
    "We also know:\n",
    "\n",
    "$$G = 6.67384\\times10^{-11}~\\rm{m}^3~\\rm{kg}^{-1}~\\rm{s}^{-2}$$\n",
    "\n",
    "(exact value, no uncertainty)\n",
    "\n",
    "Use the [standard error propagation rules](http://en.wikipedia.org/wiki/Propagation_of_uncertainty#Example_formulas) to determine the resulting force and uncertainty in your script (you can just derive the equation by hand and implement it in a single line in your code).\n",
    "\n"
   ]
  },
  {
   "cell_type": "code",
   "execution_count": 55,
   "metadata": {
    "collapsed": false,
    "deletable": true,
    "editable": true
   },
   "outputs": [
    {
     "name": "stdout",
     "output_type": "stream",
     "text": [
      "Resulting Force F = 7.82e-01 +- 5.63e-03\n"
     ]
    }
   ],
   "source": [
    "# Computing with standard error propagation rules: \n",
    "M1 = 40e4\n",
    "dM1 = 0.05e4\n",
    "M2 = 30e4\n",
    "dM2 = 0.1e4\n",
    "r = 3.2\n",
    "dr = 0.01\n",
    "G = 6.67384e-11\n",
    "\n",
    "F_oldschool = (G*M1*M2)/r**2\n",
    "dF_oldschool = ( (dM1*G*M2/r**2)**2 + (dM2*G*M1/r**2)**2 + (-2*G*M1*M2*dr/r**3)**2 )**0.5\n",
    "\n",
    "print(\"Resulting Force F = {0:.2e} +- {1:.2e}\".format(F_oldschool, dF_oldschool))"
   ]
  },
  {
   "cell_type": "markdown",
   "metadata": {
    "deletable": true,
    "editable": true
   },
   "source": [
    "Now, we can try using a **Monte-Carlo** technique instead. The idea behind Monte-Carlo techniques is to generate many possible solutions using random numbers and using these to look at the overall results. In the above case, you can propagate uncertainties with a Monte-Carlo method by doing the following:\n",
    "\n",
    "* randomly sample values of $M_1$, $M_2$, and $r$, 1000000 times, using the means and standard deviations given above\n",
    "\n",
    "* compute the gravitational force for each set of values\n",
    "\n",
    "You should do this with Numpy arrays, and **without any loops**. You should then get an array of 1000000 different values for the forces."
   ]
  },
  {
   "cell_type": "code",
   "execution_count": 56,
   "metadata": {
    "collapsed": false,
    "deletable": true,
    "editable": true
   },
   "outputs": [],
   "source": [
    "import numpy as np\n",
    "\n",
    "# These are the parameters\n",
    "# d.. values are uncertainties, standard deviations \n",
    "M1 = 40e4\n",
    "dM1 = 0.05e4\n",
    "M2 = 30e4\n",
    "dM2 = 0.1e4\n",
    "r = 3.2\n",
    "dr = 0.01\n",
    "G = 6.67384e-11\n",
    "number = 1000000 #number of values we want to generate\n",
    "\n",
    "# Ranomly sampling values\n",
    "M1ar = np.random.normal(M1, dM1, number)\n",
    "M2ar = np.random.normal(M2, dM2, number)\n",
    "rar = np.random.normal(r, dr, number)\n",
    "Gar = np.ones(number)*G\n",
    "\n",
    "# Now we compute the force with the formula\n",
    "F = (M1ar*M2ar*Gar)/rar**2"
   ]
  },
  {
   "cell_type": "markdown",
   "metadata": {
    "deletable": true,
    "editable": true
   },
   "source": [
    "Make a plot of the normalized histogram of these values of the force, and then overplot a Gaussian function with the mean and standard deviation derived with the standard error propagation rules. Make sure that you pick the range of x values in the plot wisely, so that the two distributions can be seen. Make sure there are also a sensible number of bins in the histogram so that you can compare the shape of the histogram and the Gaussian function. The two distributions should agree pretty well."
   ]
  },
  {
   "cell_type": "code",
   "execution_count": 60,
   "metadata": {
    "collapsed": false,
    "deletable": true,
    "editable": true
   },
   "outputs": [
    {
     "data": {
      "image/png": "[encoded data removed]",
      "text/plain": [
       "<matplotlib.figure.Figure at 0x10b496ef0>"
      ]
     },
     "metadata": {},
     "output_type": "display_data"
    }
   ],
   "source": [
    "import matplotlib.pyplot as plt\n",
    "import matplotlib.mlab as mlab\n",
    "%matplotlib inline\n",
    "x = np.linspace(0.75, 0.82, 10e3)\n",
    "plt.hist(F, normed=True, bins=20)\n",
    "plt.plot(x,mlab.normpdf(x, F_oldschool, dF_oldschool), linewidth=3)\n",
    "plt.show()"
   ]
  },
  {
   "cell_type": "markdown",
   "metadata": {
    "deletable": true,
    "editable": true
   },
   "source": [
    "## Part 2"
   ]
  },
  {
   "cell_type": "markdown",
   "metadata": {
    "deletable": true,
    "editable": true
   },
   "source": [
    "Now repeat the experiment above with the following values:\n",
    "\n",
    "$$M_1=40\\times10^4\\pm2\\times10^4\\rm{kg}$$\n",
    "$$M_2=30\\times10^4\\pm10\\times10^4\\rm{kg}$$\n",
    "$$r=3.2\\pm1.0~\\rm{m}$$\n",
    "\n",
    "and as above, produce a plot."
   ]
  },
  {
   "cell_type": "markdown",
   "metadata": {
    "deletable": true,
    "editable": true
   },
   "source": [
    "## Solution"
   ]
  },
  {
   "cell_type": "code",
   "execution_count": 91,
   "metadata": {
    "collapsed": false,
    "deletable": true,
    "editable": true
   },
   "outputs": [
    {
     "name": "stdout",
     "output_type": "stream",
     "text": [
      "Resulting Force F = 7.82e-01 +- 5.55e-01\n"
     ]
    },
    {
     "data": {
      "image/png": "[encoded data removed]",
      "text/plain": [
       "<matplotlib.figure.Figure at 0x10d933438>"
      ]
     },
     "metadata": {},
     "output_type": "display_data"
    }
   ],
   "source": [
    "# Computing with standard error propagation rules: \n",
    "M1 = 40e4\n",
    "dM1 = 2e4\n",
    "M2 = 30e4\n",
    "dM2 = 10e4\n",
    "r = 3.2\n",
    "dr = 1.0\n",
    "G = 6.67384e-11\n",
    "\n",
    "F_oldschool = (G*M1*M2)/r**2\n",
    "dF_oldschool = ( (dM1*G*M2/r**2)**2 + (dM2*G*M1/r**2)**2 + (-2*G*M1*M2*dr/r**3)**2 )**0.5\n",
    "\n",
    "print(\"Resulting Force F = {0:.2e} +- {1:.2e}\".format(F_oldschool, dF_oldschool))\n",
    "\n",
    "import numpy as np\n",
    "\n",
    "number = 1000000 #number of values we want to generate\n",
    "\n",
    "# Ranomly sampling values\n",
    "M1ar = np.random.normal(M1, dM1, number)\n",
    "M2ar = np.random.normal(M2, dM2, number)\n",
    "rar = np.random.normal(r, dr, number)\n",
    "Gar = np.ones(number)*G\n",
    "\n",
    "# Now we compute the force with the formula\n",
    "F = (M1ar*M2ar*Gar)/rar**2\n",
    "\n",
    "import matplotlib.pyplot as plt\n",
    "import matplotlib.mlab as mlab\n",
    "%matplotlib inline\n",
    "x = np.linspace(-2, 3, 10e3)\n",
    "plt.hist(F, normed=True, bins=10)\n",
    "plt.plot(x,mlab.normpdf(x, F_oldschool, dF_oldschool), linewidth=3)\n",
    "plt.axis((-1.5, 3, 0, 1))\n",
    "plt.show()"
   ]
  },
  {
   "cell_type": "markdown",
   "metadata": {
    "collapsed": false,
    "deletable": true,
    "editable": true
   },
   "source": [
    "In this case, which method do you think is more accurate? Why? What do you think are the advantages of using a Monte-Carlo technique?\n",
    "\n",
    "With the standard calculation, all the values are in one enormous bin, which is not depicted any more, due to the big uncertainties in the errors. The Monte-Carlo-Propagation doesn't have this problem because of the statistical sampling."
   ]
  },
  {
   "cell_type": "code",
   "execution_count": 4,
   "metadata": {
    "collapsed": false,
    "deletable": true,
    "editable": true
   },
   "outputs": [],
   "source": [
    "# Computing with standard error propagation rules: \n",
    "\n",
    "import numpy as np\n",
    "%matplotlib inline\n",
    "from ipywidgets import interact, interactive\n",
    "from IPython.display import clear_output, display, HTML\n",
    "import numpy as np\n",
    "#from scipy import integrate\n",
    "\n",
    "from matplotlib import pyplot as plt\n",
    "\n",
    "#from mpl_toolkits.mplot3d import Axes3D\n",
    "#from matplotlib.colors import cnames\n",
    "#from matplotlib import animation\n",
    "\n",
    "import matplotlib.mlab as mlab\n",
    "M1 = 40e4\n",
    "dM1 = 0.1e4\n",
    "M2 = 30e4\n",
    "dM2 = 0.3e4\n",
    "r = 3.2\n",
    "dr = 0.4\n",
    "G = 6.67384e-11\n",
    "\n",
    "F_oldschool = (G*M1*M2)/r**2\n",
    "dF_oldschool = ( (dM1*G*M2/r**2)**2 + (dM2*G*M1/r**2)**2 + (-2*G*M1*M2*dr/r**3)**2 )**0.5\n",
    "    \n",
    "\n",
    "\n",
    "def MonteCarlo(number=1000000):\n",
    "    # Ranomly sampling values\n",
    "    M1ar = np.random.normal(M1, dM1, number)\n",
    "    M2ar = np.random.normal(M2, dM2, number)\n",
    "    rar = np.random.normal(r, dr, number)\n",
    "    Gar = np.ones(number)*G\n",
    "    \n",
    "    # Now we compute the force with the formula\n",
    "    F = (M1ar*M2ar*Gar)/rar**2\n",
    "    \n",
    "    x = np.linspace(-2, 3, 10e3)\n",
    "    plt.hist(F, normed=True, bins=10)\n",
    "    plt.plot(x,mlab.normpdf(x, F_oldschool, dF_oldschool), linewidth=3)\n",
    "    plt.axis((-1.5, 3, 0, 1))\n",
    "    plt.show()"
   ]
  },
  {
   "cell_type": "code",
   "execution_count": 6,
   "metadata": {
    "collapsed": false
   },
   "outputs": [],
   "source": [
    "w = interactive(MonteCarlo, number=(0,1000000000))\n",
    "display(w)"
   ]
  },
  {
   "cell_type": "code",
   "execution_count": null,
   "metadata": {
    "collapsed": true
   },
   "outputs": [],
   "source": []
  }
 ],
 "metadata": {
  "anaconda-cloud": {},
  "kernelspec": {
   "display_name": "Python 3",
   "language": "python",
   "name": "python3"
  },
  "language_info": {
   "codemirror_mode": {
    "name": "ipython",
    "version": 3
   },
   "file_extension": ".py",
   "mimetype": "text/x-python",
   "name": "python",
   "nbconvert_exporter": "python",
   "pygments_lexer": "ipython3",
   "version": "3.6.0"
  }
 },
 "nbformat": 4,
 "nbformat_minor": 0
}
