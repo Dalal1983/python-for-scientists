{
 "cells": [
  {
   "cell_type": "markdown",
   "metadata": {
    "deletable": true,
    "editable": true
   },
   "source": [
    "# Practice Problem - Temperatures"
   ]
  },
  {
   "cell_type": "markdown",
   "metadata": {
    "deletable": true,
    "editable": true
   },
   "source": [
    "Use the [data/munich_temperatures_average.txt](data/munich_temperatures_average.txt) data file, which gives the temperature in Munich every day for several years. Read in the data, and print out the minimum, average maximum temperature for each year, e.g:\n",
    "\n",
    "    1995: -3C  10C  35C\n",
    "    1996: ...\n",
    "    \n",
    "You can also try and print out the same values, but for each month (averaged over years), e.g.:\n",
    "\n",
    "    January: -15C 0C 3C\n",
    "    February: ..."
   ]
  },
  {
   "cell_type": "markdown",
   "metadata": {
    "deletable": true,
    "editable": true
   },
   "source": [
    "## Solution"
   ]
  },
  {
   "cell_type": "code",
   "execution_count": 25,
   "metadata": {
    "collapsed": false,
    "deletable": true,
    "editable": true
   },
   "outputs": [],
   "source": [
    "import numpy as np\n",
    "\n",
    "# Create two python lists to store all data:\n",
    "dates_list = []\n",
    "values_list = []\n",
    "\n",
    "# Open file\n",
    "f = open('data/munich_temperatures_average.txt', 'r')\n",
    "\n",
    "# Loop over lines, store values in lists\n",
    "for line in f: \n",
    "    line = line.strip()\n",
    "    columns = line.split()\n",
    "    dates_list.append(float(columns[0]))\n",
    "    values_list.append(float(columns[1]))\n",
    "f.close()\n",
    "\n",
    "# Cast the dates and values in numpy arrays\n",
    "dates = np.array(dates_list)\n",
    "values = np.array(values_list)"
   ]
  },
  {
   "cell_type": "code",
   "execution_count": 37,
   "metadata": {
    "collapsed": false,
    "deletable": true,
    "editable": true
   },
   "outputs": [
    {
     "name": "stdout",
     "output_type": "stream",
     "text": [
      "(array([ 1995.,  1996.,  1997.,  1998.,  1999.,  2000.,  2001.,  2002.,\n",
      "        2003.,  2004.,  2005.,  2006.,  2007.,  2008.,  2009.,  2010.,\n",
      "        2011.,  2012.,  2013.]), array([   0,  365,  730, 1096, 1458, 1822, 2187, 2553, 2886, 3251, 3616,\n",
      "       3967, 4331, 4690, 5054, 5419, 5784, 6149, 6514]))\n",
      "6619\n"
     ]
    }
   ],
   "source": [
    "# Now that we have numpy arrays, it's easy :D\n",
    "# the following gives us the indices where the new years begin\n",
    "\n",
    "number_of_years = np.unique(np.floor_divide(dates, 1.0), return_index=True)\n",
    "print(number_of_years)\n",
    "print(len(dates))"
   ]
  },
  {
   "cell_type": "code",
   "execution_count": 54,
   "metadata": {
    "collapsed": false,
    "deletable": true,
    "editable": true
   },
   "outputs": [
    {
     "name": "stdout",
     "output_type": "stream",
     "text": [
      "1995 : -13.0 9.0 26.0\n",
      "1996 : -16.0 7.0 24.0\n",
      "1997 : -13.0 9.0 22.0\n",
      "1998 : -12.0 9.0 26.0\n",
      "1999 : -10.0 9.0 25.0\n",
      "2000 : -17.0 10.0 25.0\n",
      "2001 : -12.0 9.0 25.0\n",
      "2002 : -11.0 10.0 25.0\n",
      "2003 : -14.0 9.0 28.0\n",
      "2004 : -11.0 9.0 23.0\n",
      "2005 : -14.0 8.0 25.0\n",
      "2006 : -11.0 9.0 26.0\n",
      "2007 : -9.0 10.0 26.0\n",
      "2008 : -5.0 10.0 24.0\n",
      "2009 : -11.0 9.0 23.0\n",
      "2010 : -9.0 8.0 26.0\n",
      "2011 : -9.0 10.0 26.0\n",
      "2012 : -15.0 9.0 25.0\n",
      "2013 : -7.0 1.0 11.0\n"
     ]
    }
   ],
   "source": [
    "# We can iterate over each year\n",
    "# we know where the new years start with number_of_years[0][index]\n",
    "\n",
    "start_index = 0\n",
    "for i in range(len(number_of_years[1])):\n",
    "    \n",
    "    if (i == len(number_of_years[1])-1):\n",
    "        end_index = len(values)\n",
    "    else:    \n",
    "        end_index = int(number_of_years[1][i+1])\n",
    "    \n",
    "    value_slice = values[start_index:end_index]\n",
    "    year = str(dates[start_index]).split('.')[0]\n",
    "    \n",
    "    min_value = np.min(value_slice)\n",
    "    mean_value = np.mean(value_slice)\n",
    "    max_value = np.max(value_slice)\n",
    "    print(year, \":\", np.round(min_value), np.round(mean_value), np.round(max_value))\n",
    "    start_index = end_index"
   ]
  },
  {
   "cell_type": "code",
   "execution_count": null,
   "metadata": {
    "collapsed": true,
    "deletable": true,
    "editable": true
   },
   "outputs": [],
   "source": []
  },
  {
   "cell_type": "code",
   "execution_count": 59,
   "metadata": {
    "collapsed": false,
    "deletable": true,
    "editable": true
   },
   "outputs": [
    {
     "name": "stdout",
     "output_type": "stream",
     "text": [
      "1995: \t-13  \t8  \t25\n",
      "1996: \t-15  \t3  \t23\n",
      "1997: \t-12  \t2  \t21\n",
      "1998: \t-12  \t2  \t25\n",
      "1999: \t-9  \t1  \t25\n",
      "2000: \t-16  \t1  \t24\n",
      "2001: \t-12  \t1  \t24\n",
      "2002: \t-11  \t1  \t25\n",
      "2003: \t-14  \t1  \t27\n",
      "2004: \t-10  \t0  \t23\n",
      "2005: \t-14  \t0  \t25\n",
      "2006: \t-11  \t0  \t25\n",
      "2007: \t-8  \t0  \t26\n",
      "2008: \t-4  \t0  \t24\n",
      "2009: \t-10  \t0  \t23\n",
      "2010: \t-9  \t0  \t25\n",
      "2011: \t-9  \t0  \t25\n",
      "2012: \t-15  \t0  \t24\n"
     ]
    }
   ],
   "source": [
    "# Another solution, not using numpy\n",
    "\n",
    "# Open file\n",
    "f = open('data/munich_temperatures_average.txt', 'r')\n",
    "\n",
    "# Loop over lines and extract variables of interest\n",
    "\n",
    "minval = 0.0\n",
    "maxval = 0.0\n",
    "mean = 8.0\n",
    "summe = 0.0\n",
    "counter = 1.0\n",
    "current_year = 1995;\n",
    "next_year = current_year + 1\n",
    "\n",
    "for line in f:\n",
    "    current_value = float(columns[1])\n",
    "    columns = line.split()\n",
    "    if(int(columns[0].split('.')[0]) == current_year or int(columns[0].split('.')[0]) == '' ):\n",
    "        if float(current_value) < minval:\n",
    "            minval = current_value\n",
    "        if float(current_value) > maxval:\n",
    "            maxval = current_value\n",
    "        summe += current_value\n",
    "        counter += 1\n",
    "    else:        \n",
    "        mean = summe/counter\n",
    "        print(\"%d: \\t%d  \\t%d  \\t%d\" %(current_year, int(minval), int(mean), int(maxval)))\n",
    "        current_year += 1\n",
    "        minval = 0.0\n",
    "        maxval = 0.0\n",
    "        mean = 4.0\n",
    "        summe = 0.0"
   ]
  }
 ],
 "metadata": {
  "kernelspec": {
   "display_name": "Python 3",
   "language": "python",
   "name": "python3"
  },
  "language_info": {
   "codemirror_mode": {
    "name": "ipython",
    "version": 3
   },
   "file_extension": ".py",
   "mimetype": "text/x-python",
   "name": "python",
   "nbconvert_exporter": "python",
   "pygments_lexer": "ipython3",
   "version": "3.6.0"
  }
 },
 "nbformat": 4,
 "nbformat_minor": 1
}
