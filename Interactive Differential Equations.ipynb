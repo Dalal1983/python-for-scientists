{
 "cells": [
  {
   "cell_type": "markdown",
   "metadata": {
    "deletable": true,
    "editable": true
   },
   "source": [
    "# Interactive Differential Equations"
   ]
  },
  {
   "cell_type": "markdown",
   "metadata": {
    "deletable": true,
    "editable": true
   },
   "source": [
    "Differential equation with forcing:    $$\\ddot{x} + 2 \\gamma \\dot{x} + k x - A_0 \\cos (\\omega_0 t) = 0$$"
   ]
  },
  {
   "cell_type": "code",
   "execution_count": 1,
   "metadata": {
    "collapsed": true,
    "deletable": true,
    "editable": true
   },
   "outputs": [],
   "source": [
    "# Import Modules\n",
    "%matplotlib inline\n",
    "import numpy as np\n",
    "from scipy import integrate\n",
    "from scipy.integrate import odeint\n",
    "import matplotlib.pyplot as plt\n",
    "from ipywidgets import interact, interactive\n",
    "from IPython.display import clear_output, display, HTML"
   ]
  },
  {
   "cell_type": "code",
   "execution_count": 2,
   "metadata": {
    "collapsed": true,
    "deletable": true,
    "editable": true
   },
   "outputs": [],
   "source": [
    "# Define the Differential Equation with forcing\n",
    "def diffeq(x,t,k,g,A,w):\n",
    "    #define/clear derivative\n",
    "    dxdt = np.zeros(2)\n",
    "\n",
    "    \"\"\" differential equation with forcing\n",
    "        split into first-order equation \n",
    "         x. = v\n",
    "         v. = - k x - 2 gamma v - A * cos (omega * t)\n",
    "    \"\"\"\n",
    "    dxdt[0] = x[1]\n",
    "    dxdt[1] = -k*x[0] - 2* g*x[1]-A*np.cos(w*t)\n",
    "\n",
    "    return dxdt"
   ]
  },
  {
   "cell_type": "code",
   "execution_count": 3,
   "metadata": {
    "collapsed": true,
    "deletable": true,
    "editable": true
   },
   "outputs": [],
   "source": [
    "# Define function that takes parameters and creates plot\n",
    "def differential(k=0.1,g=2.5,A=3.2,w=5.5,x=2.,v=-0.8):\n",
    "    x    = np.array([x,v])         # initial position\n",
    "    time = np.linspace(0.0,100.0,500)   # evaluation times\n",
    "    solution = odeint(diffeq, x, time, args=(k,g/100,A,w))\n",
    "    plt.plot(time,solution[:,0])\n",
    "    plt.ylim(-5,5) #this can be removed for dynamic adaption to size\n",
    "    plt.show()"
   ]
  },
  {
   "cell_type": "code",
   "execution_count": 4,
   "metadata": {
    "collapsed": false,
    "deletable": true,
    "editable": true
   },
   "outputs": [
    {
     "data": {
      "application/vnd.jupyter.widget-view+json": {
       "model_id": "3477a80035114635b45c094b5c4ef83d"
      }
     },
     "metadata": {},
     "output_type": "display_data"
    }
   ],
   "source": [
    "# Call interactive with function and initial parameters\n",
    "w = interactive(differential, g=(1., 12.), k=(0.,5.), A=(-10.,10.), w=(0.0,7.0), x=(-4.,4.), v=(-4., 4))\n",
    "display(w)\n",
    "\n",
    "# The Parameters are: \n",
    "# k = k\n",
    "# g = gamma (multiplied by 100 because widget only supports 2 decimal places)\n",
    "# A = amplitude of forcing \n",
    "# w = frequqency of forcing\n",
    "# x = initial position\n",
    "# v = initial velocity\n",
    "\n",
    "# Example of nice beat (Schwebung): 2.70, 1.90, 0.90, 1.90, 3.20, 1.20\n",
    "# Have fun poking around and exploring!"
   ]
  },
  {
   "cell_type": "code",
   "execution_count": null,
   "metadata": {
    "collapsed": true,
    "deletable": true,
    "editable": true
   },
   "outputs": [],
   "source": []
  }
 ],
 "metadata": {
  "kernelspec": {
   "display_name": "Python 3",
   "language": "python",
   "name": "python3"
  },
  "language_info": {
   "codemirror_mode": {
    "name": "ipython",
    "version": 3
   },
   "file_extension": ".py",
   "mimetype": "text/x-python",
   "name": "python",
   "nbconvert_exporter": "python",
   "pygments_lexer": "ipython3",
   "version": "3.6.0"
  }
 },
 "nbformat": 4,
 "nbformat_minor": 2
}
