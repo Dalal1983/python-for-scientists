{
 "cells": [
  {
   "cell_type": "markdown",
   "metadata": {
    "deletable": true,
    "editable": true
   },
   "source": [
    "# Problem Set 1 - DNA - Oskar Weinfurtner"
   ]
  },
  {
   "cell_type": "markdown",
   "metadata": {
    "deletable": true,
    "editable": true
   },
   "source": [
    "**Name:** Oskar Weinfurtner\n",
    "\n",
    "**Student-ID:** 3390440\n",
    "\n",
    "**E-Mail:** oskar.weinfurtner@web.de"
   ]
  },
  {
   "cell_type": "markdown",
   "metadata": {
    "deletable": true,
    "editable": true
   },
   "source": [
    "**Total points:** 30\n",
    "\n",
    "**Due:** Thursday February 30, 19:00 CEST\n",
    "\n",
    "**Format:** IPython Notebook or python program\n",
    "\n",
    "*The number of points in this problem sheet is *not* directly proportional to the difficulty. In fact, Part 3 is more difficult than Part 1 and 2, but is worth fewer points in terms of the amount of work/code, and are there for people who enjoy challenges. So you can choose to not complete Part 3, and you should still be able to get more than 60% of points from the previous questions if you answer them correctly.*"
   ]
  },
  {
   "cell_type": "markdown",
   "metadata": {
    "deletable": true,
    "editable": true
   },
   "source": [
    "## Background"
   ]
  },
  {
   "cell_type": "markdown",
   "metadata": {
    "deletable": true,
    "editable": true
   },
   "source": [
    "This problem set is about DNA data and methods typically applied to this kind of data. As a reminder, [DNA](http://en.wikipedia.org/wiki/DNA) is a molecule that encodes genetic instructions for living organisms. DNA is typically found as a double-stranded helix, in which each strand corresponds to a sequence of *nucleotides*. Each nucleotide consists of a nucleobase (guanine, adenine, thymine, or cytosine) attached to sugars, which are in turn separated from each other by phosphate groups:\n",
    "\n",
    "![DNA](http://upload.wikimedia.org/wikipedia/commons/thumb/4/4c/DNA_Structure%2BKey%2BLabelled.pn_NoBB.png/492px-DNA_Structure%2BKey%2BLabelled.pn_NoBB.png)\n",
    "\n",
    "(image from Wikipedia)\n",
    "\n",
    "The nucleobases are commonly referred to with the letters G (guanine), A (adenine), T (thymine), and C (cytosine). The nucleobases form pairs between the two strands: G pairs with C, and T pairs with A.\n",
    "\n",
    "DNA is therefore most commonly represented as a sequence of nucleobases, such as ``GATTACACCTCATTATAAA``.\n",
    "\n",
    "For more information about DNA, see the wikipedia page in [German](http://de.wikipedia.org/wiki/DesoxyribonukleinsÃ¤ure) or [English](http://en.wikipedia.org/wiki/DNA).\n",
    "\n",
    "In this problem set, we will be working with fake genetic data, since real-life data often has added complications, but the functions and techniques uses here are the same or very similar to techniques used on real data."
   ]
  },
  {
   "cell_type": "markdown",
   "metadata": {
    "deletable": true,
    "editable": true
   },
   "source": [
    "## Part 1 (10 points)"
   ]
  },
  {
   "cell_type": "markdown",
   "metadata": {
    "deletable": true,
    "editable": true
   },
   "source": [
    "### Question 1 (6 points)"
   ]
  },
  {
   "cell_type": "markdown",
   "metadata": {
    "deletable": true,
    "editable": true
   },
   "source": [
    "The **reverse complement** of DNA is found by reversing the DNA sequence, then replacing each base by its complement (A is replaced by T, T is replaced by A, G is replaced by C, and C is replaced by G). For example, the reverse complement of ``ATGCGGC`` is ``GCCGCAT``\n",
    "\n",
    "Write a Python function ``reverse_complement`` that takes a DNA sequence as a string, and returns the reverse complement. Test your function by ensuring that ``reverse_complement('ATGCGGC')`` is ``'GCCGCAT'``, then find the reverse complement of the following sequence:\n",
    "\n",
    "    ATGCGCGGATCGTACCTAATCGATGGCATTAGCCGAGCCCGATTACGC\n",
    "    \n",
    "Print the result out using ``print``.\n",
    "\n",
    "Note that this function is **NOT** needed for the remaining questions below."
   ]
  },
  {
   "cell_type": "code",
   "execution_count": 1,
   "metadata": {
    "collapsed": false,
    "deletable": true,
    "editable": true
   },
   "outputs": [
    {
     "name": "stdout",
     "output_type": "stream",
     "text": [
      "Function test succeded\n",
      "The reverse complement to the given sequence is:\n",
      "GCGTAATCGGGCTCGGCTAATGCCATCGATTAGGTACGATCCGCGCAT\n"
     ]
    }
   ],
   "source": [
    "# Collect Sequences\n",
    "\n",
    "sequence0 = 'ATGCGGC' # Example sequence\n",
    "sequence0_test = 'GCCGCAT' # Test of example sequence\n",
    "sequence1 = 'ATGCGCGGATCGTACCTAATCGATGGCATTAGCCGAGCCCGATTACGC' # to be reversed sequence\n",
    "\n",
    "# Create a dictionary for complementary bases:\n",
    "pairs = {'G': 'C',\n",
    "         'T': 'A',\n",
    "         'C': 'G',\n",
    "         'A': 'T'}\n",
    "\n",
    "# Create function that takes a sequence as string and returns the reverse complement\n",
    "\n",
    "def reverse_complement(sequence):\n",
    "    #turn sequence into list called slist\n",
    "    slist = list(sequence)\n",
    "    slist.reverse()\n",
    "\n",
    "    #create empty string for result\n",
    "    complement = \"\"\n",
    "    \n",
    "    #iterate over slist \n",
    "    for i in slist:\n",
    "        # Error checking: Make sure we have correct DNA\n",
    "        if(i not in pairs):\n",
    "            print(\"The given sequence was incorrect, containing letters other than ATGC\")\n",
    "            return(\"\")\n",
    "        # create resulting string by 'translating' with dictionary\n",
    "        complement += pairs[i]\n",
    "    return complement\n",
    "\n",
    "# Test the function with Test-Data\n",
    "\n",
    "if(reverse_complement(sequence0) != sequence0_test):\n",
    "    print(\"Function test failed.\")\n",
    "else:\n",
    "    print(\"Function test succeded\")\n",
    "\n",
    "# Return the answer to the sequence of interest:\n",
    "print(\"The reverse complement to the given sequence is:\")\n",
    "solution = reverse_complement(sequence1)\n",
    "print(solution)\n",
    "\n",
    "# can be done in one step now:\n",
    "#print(reverse_complement(sequence1))"
   ]
  },
  {
   "cell_type": "markdown",
   "metadata": {
    "deletable": true,
    "editable": true
   },
   "source": [
    "### Question 2 (4 points)"
   ]
  },
  {
   "cell_type": "markdown",
   "metadata": {
    "deletable": true,
    "editable": true
   },
   "source": [
    "[Ribonucleic acid (RNA)](http://en.wikipedia.org/wiki/RNA) is a family of large biological molecules that is *transcribed* from DNA by the [RNA Polymerase](http://en.wikipedia.org/wiki/RNA_polymerase) enzyme. It consists of a single strand of nucleotides that are identical to the ones found in DNA, with the exception of uracil (U), which replaces thymine (T).\n",
    "\n",
    "[Messenger RNA](http://en.wikipedia.org/wiki/Messenger_RNA) molecules (or mRNA) are a subset of RNA molecules that are used to pass information from DNA to [ribosomes](http://en.wikipedia.org/wiki/Ribosome), which then translates the mRNA to protein sequences.\n",
    "\n",
    "Write a Python function ``dna_to_mrna`` that takes a DNA sequence and returns the corresponding mRNA sequence. For example, the DNA sequence ``ATCGCGAT`` should produce the mRNA sequence ``AUCGCGAU`` (note that you do **not** need to find the reverse complement of the DNA here)"
   ]
  },
  {
   "cell_type": "code",
   "execution_count": 2,
   "metadata": {
    "collapsed": false,
    "deletable": true,
    "editable": true
   },
   "outputs": [
    {
     "name": "stdout",
     "output_type": "stream",
     "text": [
      "Function test succeded\n"
     ]
    }
   ],
   "source": [
    "# Collect Sequences\n",
    "\n",
    "sequence2 = 'ATCGCGAT' # Example sequence for DNA\n",
    "sequence2_test = 'AUCGCGAU' # Test of example sequence mRNA\n",
    "sequence1 = 'ATGCGCGGATCGTACCTAATCGATGGCATTAGCCGAGCCCGATTACGC' # to be reversed sequence\n",
    "\n",
    "\n",
    "# Create function that takes a sequence as string and returns the reverse complement\n",
    "\n",
    "def dna_to_mrna(sequence):\n",
    "    #turn sequence into list called slist\n",
    "    slist = list(sequence)\n",
    "\n",
    "    #create empty string for result\n",
    "    result = \"\"\n",
    "    \n",
    "    #iterate over slist \n",
    "    for i in slist:\n",
    "        \n",
    "        # Error checking, making sure we have correct DNA Sequence\n",
    "        if(i not in pairs):\n",
    "            print(\"The given sequence was incorrect, containing letters other than ATGC\")\n",
    "            return(\"\")\n",
    "        \n",
    "        # replace T with U\n",
    "        if(i == 'T'):\n",
    "            i = 'U'\n",
    "        # build resulting string\n",
    "        result += i\n",
    "    return result\n",
    "\n",
    "\n",
    "# Test the function with Test-Data\n",
    "\n",
    "if(dna_to_mrna(sequence2) != sequence2_test):\n",
    "    print(\"Function test failed.\")\n",
    "else:\n",
    "    print(\"Function test succeded\")"
   ]
  },
  {
   "cell_type": "markdown",
   "metadata": {
    "deletable": true,
    "editable": true
   },
   "source": [
    "## Part 2 (15 points)"
   ]
  },
  {
   "cell_type": "markdown",
   "metadata": {
    "deletable": true,
    "editable": true
   },
   "source": [
    "### Question 3 (8 points)"
   ]
  },
  {
   "cell_type": "markdown",
   "metadata": {
    "deletable": true,
    "editable": true
   },
   "source": [
    "When the mRNA is translated to a protein sequence, each set of three nucleotides, called a **codon**, is translated into a single amino acid. For example, the codon ``UUC`` translates to the amino acid *Phenylalanine*. Each amino acid can be represented by a single letter - for example Phenylalanine is represented by the letter ``F``. A protein, which is formed from a sequence of amino acids, can therefore be written as a sequence of letters in the same way as DNA or mRNA, but using more of the letters of the alphabet since there are more than four amino acids.\n",
    "\n",
    "The [data/problem_1_codons.txt](data/problem_1_codons.txt) file contains two columns. The first column gives a list of codons, and the second column gives the corresponding amino acid (represented by a single letter). Certain codons do not correspond to an amino acid, but instead indicate that the amino acid sequence is finished. These are indicated by ``Stop``.\n",
    "\n",
    "Write a function ``mrna_to_protein`` that takes an mRNA sequence (as a string) and returns the sequence of amino acids (as a string), stopping the first time a ``Stop`` codon is encountered. Make sure that the file is only read once when running the script (and not every time you want to translate a codon). You will likely need to use a Python dictionary to help.\n",
    "\n",
    "Finally, write a function ``dna_to_protein`` that takes a DNA sequence (as a string) and returns the sequence of amino acids (as a string), making use of the functions that you wrote previously.\n",
    "\n",
    "Print out the amino acid sequence for the following DNA sequence:\n",
    "\n",
    "    AATCTCTACGGAAGTAGGTCAGTACTGATCGATCAGTCGATCGGGCGGCGATTTCGATCTGATTGTACGGCGGGCTAG\n",
    "    "
   ]
  },
  {
   "cell_type": "code",
   "execution_count": 3,
   "metadata": {
    "collapsed": false,
    "deletable": true,
    "editable": true
   },
   "outputs": [
    {
     "name": "stdout",
     "output_type": "stream",
     "text": [
      "The given DNA sequence results in the amino acid sequence (protein):\n",
      "NLYGSRSVLIDQSIGRRFRSDCTAG\n"
     ]
    }
   ],
   "source": [
    "# Sequence to be transformed to amino acid\n",
    "sequence3 = 'AATCTCTACGGAAGTAGGTCAGTACTGATCGATCAGTCGATCGGGCGGCGATTTCGATCTGATTGTACGGCGGGCTAG'\n",
    "\n",
    "#Create a dictionary for codons\n",
    "codons = {}\n",
    "\n",
    "# Read in the file and fill the dictionary\n",
    "\n",
    "# Open file\n",
    "f = open('data/problem_1_codons.txt', 'r')\n",
    "\n",
    "# Loop over lines and extract variables of interest\n",
    "for line in f:\n",
    "    #Get lines, split and identify\n",
    "    line = line.strip()\n",
    "    columns = line.split()\n",
    "    codon = columns[0]\n",
    "    acid = columns[1]\n",
    "    \n",
    "    # Write codon-acid-pairs into dictionary\n",
    "    # non-existing entries will be created automatically\n",
    "    codons[codon] = acid\n",
    "\n",
    "# Close file\n",
    "f.close()\n",
    "\n",
    "# Function for translating mRNA to proteins using the codons-dictionary\n",
    "def mrna_to_protein(mrna):\n",
    "    # Create empty result string\n",
    "    result = \"\"\n",
    "    \n",
    "    # Slice mrna in triples and store in mlist\n",
    "    start_index=0\n",
    "    end_index=3\n",
    "    while(end_index <= len(mrna)): #slcing is exclusive, therefore <=\n",
    "        # slice mrna as tuples of three \n",
    "        codon = mrna[start_index:end_index]\n",
    "        \n",
    "        # translate codon into acid with codons dictionary\n",
    "        acid = codons[codon]\n",
    "\n",
    "        # if not stop acid concat to result\n",
    "        if(acid != 'Stop'):\n",
    "            result += acid\n",
    "              \n",
    "        # if stop acid, return result\n",
    "        else:\n",
    "            return result\n",
    "        \n",
    "        # and don't forget to make the while-loop end :D\n",
    "        start_index += 3\n",
    "        end_index += 3\n",
    "    \n",
    "# Define function dna_to_protein\n",
    "# takes a DNA sequence (as a string)\n",
    "# returns the sequence of amino acids (as a string)\n",
    "def dna_to_protein(dna):\n",
    "    return mrna_to_protein(dna_to_mrna(dna))\n",
    "\n",
    "# Now let's use the functions to translate dna sequence3\n",
    "print(\"The given DNA sequence results in the amino acid sequence (protein):\")\n",
    "print(dna_to_protein(sequence3))"
   ]
  },
  {
   "cell_type": "markdown",
   "metadata": {
    "deletable": true,
    "editable": true
   },
   "source": [
    "### Question 4 (7 points)"
   ]
  },
  {
   "cell_type": "markdown",
   "metadata": {
    "deletable": true,
    "editable": true
   },
   "source": [
    "In the previous questions, we have been specifying the DNA sequence by hand, but DNA sequences are usually long and are stored in files. A common file format is the [FASTA format](http://en.wikipedia.org/wiki/FASTA_format) which looks similar to this:\n",
    "\n",
    "    >label1\n",
    "    ACTGTATCGATGCTAGCTACGTAGCTAGCTAGCTAGCTGACGTA\n",
    "    ACGATGTGCGAGGGTCATGGGACGCGAGCGAGTCTAGCACGATC\n",
    "    >label2\n",
    "    ACTGGGCTTGACTACGGCGGTATCTGACGGGCGAGCTGTACGAG\n",
    "    ACGGACTAGGGCGCGGCGGGGCGGATTTTCGAGTCGAGCGTTAT\n",
    "   \n",
    "The first line starts with a ``>`` which is immediately followed by a label (which might be the name of the gene for example). The sequence then starts on the second line, and may continue on several lines. It is common to limit the length of each line to 80, but this may vary from file to file. The sequence stops once either the file ends, or a line starts with ``>``, which indicates that a new sequence is being given. There may be any number of sequences in a file.\n",
    "\n",
    "Write a function ``read_fasta``, that takes the name of a file (as a string) and returns a Python dictionary containing all the sequences from the file, with the keys in the dictionary corresponding to the label. If a sequence is given over several lines, you should remove any line returns and spaces. You should then be able to access the DNA for ``label1`` with ``d['label1']`` for example (if ``d`` is the name of the dictionary)."
   ]
  },
  {
   "cell_type": "code",
   "execution_count": 4,
   "metadata": {
    "collapsed": false,
    "deletable": true,
    "editable": true
   },
   "outputs": [],
   "source": [
    "# Define a functin read_fasta\n",
    "def read_fasta(path_to_file):\n",
    "    # Create a new, empty dictionary called d\n",
    "    d = {}\n",
    "    \n",
    "    # Read the files\n",
    "    f = open(path_to_file, 'r') # open file\n",
    "    alldata = f.read() # read all data as one string\n",
    "    f.close() # close the file\n",
    "    \n",
    "    \n",
    "    # Split data where new sequence bengins\n",
    "    datalist = alldata.split('>') \n",
    "    \n",
    "    # iterate over datalist which now contains the sequences\n",
    "    for i in datalist:\n",
    "        # Filter bad data, basically the first element in the list\n",
    "        if(len(i)<3):\n",
    "            continue\n",
    "        \n",
    "        # split each sequence where new lines are\n",
    "        split = i.split('\\n')\n",
    "        \n",
    "        # first item is the label of the sequence\n",
    "        key = split[0]\n",
    "        \n",
    "        # the following parts are the DNA sequence\n",
    "        value = \"\".join(split[1:])\n",
    "        \n",
    "        #write label-sequence pair in dictionary\n",
    "        d[key] = value\n",
    "    \n",
    "    # Return the resulting dictionary\n",
    "    return d"
   ]
  },
  {
   "cell_type": "markdown",
   "metadata": {
    "deletable": true,
    "editable": true
   },
   "source": [
    "Use this function and the functions you have written above to read in the [data/problem_1_question_4.fasta](data/problem_1_question_4.fasta) file and print out, for each sequence, the label, followed by the **amino acid** sequence (not the DNA sequence!)."
   ]
  },
  {
   "cell_type": "code",
   "execution_count": 5,
   "metadata": {
    "collapsed": false,
    "deletable": true,
    "editable": true,
    "scrolled": true
   },
   "outputs": [
    {
     "name": "stdout",
     "output_type": "stream",
     "text": [
      "Label\t    Amino Acid Sequence (Protein)\n",
      "sequence_01 YKFAGYQAIIGPRPATSKGLRLTAIQWRHLRWPIICIPEEHWY\n",
      "sequence_02 RSFCTGHPSYCRLFFGRKMQSSFAPR\n",
      "sequence_03 RPERFGASRYTICVHVSDNPPVSTLLSKEQTGGA\n",
      "sequence_04 CMSSRNAITGCITCVGHIMGVRLYD\n",
      "sequence_05 TLITPLGYPGRIGELRGLVYVRGHHQVPSMCTYS\n",
      "sequence_06 CIEPELQATRVKATFSFASCPSDMFSKSPL\n",
      "sequence_07 CVARTGWQMRTAPVSFAPSPPINAPKRTPSIRWMSFLIP\n",
      "sequence_08 DPLRFSVGTERRGSALVFFILGGI\n",
      "sequence_09 LTFEFLARGDQFSTWWL\n",
      "sequence_10 PSENPNVSSRPPPMIFTDFT\n",
      "sequence_11 RALGATVNMLGYHVFPN\n",
      "sequence_12 RPFPAVCRIKFFWPYISIKEGSANASNTTNC\n",
      "sequence_13 LKGIIRCSDSNCSSPIFGPSQEIQM\n",
      "sequence_14 IMTNPTLNKDTA\n",
      "sequence_15 GQQHSMGTLYKM\n",
      "sequence_16 AIRCRVAIESDLTVVARLVYIVPCTPSDSRNYPNSSGFKPISKTQNL\n",
      "sequence_17 KCRRFRQTTTYKPCSCSVIRCTREQQD\n",
      "sequence_18 LELFGEDDTVE\n",
      "sequence_19 GLLPDSYRVSLSLQRTTLCLTIVCSGLCGLPDLMNLESRFHMQSVTF\n",
      "sequence_20 CASAYSPKGRAAKLVLLK\n"
     ]
    }
   ],
   "source": [
    "d = read_fasta('data/problem_1_question_4.fasta')\n",
    "print(\"Label\\t   \", \"Amino Acid Sequence (Protein)\")\n",
    "for key in d:\n",
    "    print(key, dna_to_protein(d[key]))"
   ]
  },
  {
   "cell_type": "markdown",
   "metadata": {
    "deletable": true,
    "editable": true
   },
   "source": [
    "## Part 3 (5 points)"
   ]
  },
  {
   "cell_type": "markdown",
   "metadata": {
    "deletable": true,
    "editable": true
   },
   "source": [
    "### Question 5 (3 points)"
   ]
  },
  {
   "cell_type": "markdown",
   "metadata": {
    "deletable": true,
    "editable": true
   },
   "source": [
    "Given several sequences with the same length, but which may include point mutations (i.e. individual nucleotides are changed), we want to try and find the most likely original sequence. For example, if we have the following sequences:\n",
    "\n",
    "    sequence 1: A C T C T\n",
    "    sequence 2: A C T C G\n",
    "    sequence 3: G C C C T\n",
    "    sequence 2: A C T C T\n",
    "    sequence 4: A T G C T\n",
    "    \n",
    "we can go through each position and find the most common nucleotide. To do this, we can first construct a matrix that looks like:\n",
    "    \n",
    "             A: 4 0 0 0 0\n",
    "             C: 0 4 1 5 0\n",
    "             G: 1 0 1 0 1\n",
    "             T: 0 1 3 0 4\n",
    "             \n",
    "which indicates how many nucleotides of each type are found at each position, and from this we can see that the most common first base is A, the most common second base is C, and so on. The most common sequence is then ``ACTCT``. This is the [**consensus sequence**](http://en.wikipedia.org/wiki/Consensus_sequence).\n",
    "\n",
    "Write a function ``consensus_sequence`` that takes a dictionary of sequences (such as the one returned by ``read_fasta``), and then returns the consensus sequence. Read the [data/problem_1_question_5.fasta](data/problem_1_question_5.fasta) file using the function you wrote previsouly, and print out the corresponding consensus sequence. All the sequences in this file are the same length.\n",
    "\n",
    "Note that the selection is based on the **nucleotides**!"
   ]
  },
  {
   "cell_type": "code",
   "execution_count": 6,
   "metadata": {
    "collapsed": false,
    "deletable": true,
    "editable": true
   },
   "outputs": [],
   "source": [
    "# Define a function taking a dictionary and returning the consensus sequence\n",
    "def consensus_sequence(d):\n",
    "    result = \"\" # create empty result string\n",
    "    matrix = [] # create empty matrix for all nucleotides\n",
    "    \n",
    "    # Iterate over all sequences in the dictionary\n",
    "    for key in d:\n",
    "        # save the Nucleotides in a matrix\n",
    "        # with rows being Individual Sequences\n",
    "        matrix.append(list(d[key]))\n",
    "\n",
    "    # Iterate over matrix and create consensus sequence    \n",
    "    for i in range(len(matrix[0])): #iterate over columns\n",
    "        # define dictionary for counting columns\n",
    "        # defining it here makes sure all values are set 0 again\n",
    "        counts = {'A': 0, 'T': 0, 'G': 0, 'C': 0}\n",
    "        for j in range(len(matrix)): # iterate over rows\n",
    "            counts[matrix[j][i]] += 1 # increment count where Nucletotid found\n",
    "        \n",
    "        # determine the most common base and append it to result\n",
    "        result += max(counts, key=counts.get) \n",
    "    \n",
    "    #return the consesus sequence    \n",
    "    return result  "
   ]
  },
  {
   "cell_type": "code",
   "execution_count": 7,
   "metadata": {
    "collapsed": false,
    "deletable": true,
    "editable": true
   },
   "outputs": [
    {
     "name": "stdout",
     "output_type": "stream",
     "text": [
      "The consensus sequence is:\n",
      "GTACTAGCCGATCAGCTAGCTACGATCGTACGTTAA\n"
     ]
    }
   ],
   "source": [
    "# Read in the file\n",
    "sequences_dictionary = read_fasta('data/problem_1_question_5.fasta')\n",
    "\n",
    "# Use function to print out consensus sequence\n",
    "print(\"The consensus sequence is:\")\n",
    "print(consensus_sequence(sequences_dictionary))"
   ]
  },
  {
   "cell_type": "markdown",
   "metadata": {
    "deletable": true,
    "editable": true
   },
   "source": [
    "### Question 6 (2 points)"
   ]
  },
  {
   "cell_type": "markdown",
   "metadata": {
    "deletable": true,
    "editable": true
   },
   "source": [
    "In some cases, it is useful to be able to identify the longest common sub-sequence between two sequences. For example, in the sequences ``ACTGCT`` and ``TGCCCT``, the longest common sub-sequence is ``TGC`` (AC**TGC**T and **TGC**CCT). Note that these do not have to be at the same positon in each sequence.\n",
    "\n",
    "Write a function, ``longest_common_sequence``, that takes a dictionary of sequences (such as the one returned by ``read_fasta``) and returns the longest common sub-sequence found in all the sequences.\n",
    "\n",
    "Read the [data/problem_1_question_6.fasta](data/problem_1_question_6.fasta) file, and print out the longest common sequence between all the sequences."
   ]
  },
  {
   "cell_type": "code",
   "execution_count": 8,
   "metadata": {
    "collapsed": false,
    "deletable": true,
    "editable": true
   },
   "outputs": [],
   "source": [
    "def longest_common_sequence(d):\n",
    "    # definie some storing variables\n",
    "    result = \"\" # our final result string\n",
    "    substrings = [] # list of all possible substrings to search for\n",
    "    found = [] # list of all found substrings\n",
    "    \n",
    "    iteration_count = 0\n",
    "    # Iterate over all sequences in the dictionary\n",
    "    for key in d:\n",
    "        iteration_count += 1\n",
    "        # only of the first sequence\n",
    "        # we create all possible substrings on which we test\n",
    "        # because the substrings have to be in every sequence\n",
    "        if(iteration_count < 2):\n",
    "            # determine all the substrings in first sequence d[key]\n",
    "            i = 0\n",
    "            while(i<=len(d[key])):\n",
    "                j = i+1\n",
    "                while(j<=len(d[key])):\n",
    "                    #put all possible substrings into list of substrings\n",
    "                    substrings.append(d[key][i:j]) \n",
    "                    j =j+1\n",
    "                i += 1\n",
    "            \n",
    "            # we only want to keep individual substrings, so we filter\n",
    "            # using that a set only contains different elements\n",
    "            substrings = list(set(substrings))\n",
    "            \n",
    "            # we sort the substring list, as we want to find the longest common sequence\n",
    "            substrings.sort(key = lambda s: len(s), reverse=True)\n",
    "            \n",
    "            #print(\"ok, sorted\")\n",
    "            #print(substrings)\n",
    "            \n",
    "        # now we test the found substrings on all other sequences in the dictionary\n",
    "        else:          \n",
    "            \n",
    "            #print(\"Length of substring is \", len(substrings))\n",
    "            #print(substrings)\n",
    "            \n",
    "            # now we iterate over substring-list\n",
    "            iterator = 0\n",
    "            for string in substrings:\n",
    "                iterator += 1\n",
    "                #print(string)\n",
    "                \n",
    "                # if string is in sequence, we add it to found\n",
    "                if(string in d[key]):\n",
    "                    found.append(string)\n",
    "                    \n",
    "                \n",
    "            # now we can remove the elements in substrings that are not in found\n",
    "            # using list comprehension\n",
    "            substrings = [x for x in substrings if x in found]\n",
    "            \n",
    "            found.clear()\n",
    "            #print(\"we iterated\",iterator, \"times\")\n",
    "            #print(substrings)\n",
    "            \n",
    "    # after we've gone through all the sequences\n",
    "    # substring-list only contains substrings contained in every sequence\n",
    "    # the maximum sequence is found on the first place, as the list is sorted\n",
    "    return substrings[0]"
   ]
  },
  {
   "cell_type": "code",
   "execution_count": 9,
   "metadata": {
    "collapsed": false,
    "deletable": true,
    "editable": true
   },
   "outputs": [
    {
     "name": "stdout",
     "output_type": "stream",
     "text": [
      "The longest common sequence we find is:\n",
      "GTACTAGCCGATCAGCTAGC\n"
     ]
    }
   ],
   "source": [
    "#Finally, we can read in the file and use the function:\n",
    "sequences = read_fasta('data/problem_1_question_6.fasta')\n",
    "print(\"The longest common sequence we find is:\")\n",
    "print(longest_common_sequence(sequences))"
   ]
  }
 ],
 "metadata": {
  "anaconda-cloud": {},
  "kernelspec": {
   "display_name": "Python 3",
   "language": "python",
   "name": "python3"
  },
  "language_info": {
   "codemirror_mode": {
    "name": "ipython",
    "version": 3
   },
   "file_extension": ".py",
   "mimetype": "text/x-python",
   "name": "python",
   "nbconvert_exporter": "python",
   "pygments_lexer": "ipython3",
   "version": "3.6.0"
  }
 },
 "nbformat": 4,
 "nbformat_minor": 0
}
